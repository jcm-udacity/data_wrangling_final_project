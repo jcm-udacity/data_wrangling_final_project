{
 "cells": [
  {
   "cell_type": "code",
   "execution_count": 1,
   "metadata": {
    "collapsed": true
   },
   "outputs": [],
   "source": [
    "from pymongo import MongoClient\n",
    "import pprint\n",
    "\n",
    "home_mongo_server = 'mongodb://localhost:27017'\n",
    "\n",
    "client = MongoClient(home_mongo_server)\n",
    "\n",
    "db = client.udacity\n",
    "osm_data = db.boston_cambridge_osm"
   ]
  },
  {
   "cell_type": "code",
   "execution_count": 2,
   "metadata": {},
   "outputs": [
    {
     "data": {
      "text/plain": [
       "342355"
      ]
     },
     "execution_count": 2,
     "metadata": {},
     "output_type": "execute_result"
    }
   ],
   "source": [
    "# number of top level elements\n",
    "osm_data.find().count()"
   ]
  },
  {
   "cell_type": "code",
   "execution_count": 3,
   "metadata": {},
   "outputs": [
    {
     "data": {
      "text/plain": [
       "294037"
      ]
     },
     "execution_count": 3,
     "metadata": {},
     "output_type": "execute_result"
    }
   ],
   "source": [
    "# number of nodes\n",
    "osm_data.find({'tag': 'node'}).count()"
   ]
  },
  {
   "cell_type": "code",
   "execution_count": 4,
   "metadata": {},
   "outputs": [
    {
     "data": {
      "text/plain": [
       "47703"
      ]
     },
     "execution_count": 4,
     "metadata": {},
     "output_type": "execute_result"
    }
   ],
   "source": [
    "# number of ways\n",
    "osm_data.find({'tag': 'way'}).count()"
   ]
  },
  {
   "cell_type": "code",
   "execution_count": 5,
   "metadata": {},
   "outputs": [
    {
     "data": {
      "text/plain": [
       "615"
      ]
     },
     "execution_count": 5,
     "metadata": {},
     "output_type": "execute_result"
    }
   ],
   "source": [
    "# number of relations\n",
    "osm_data.find({'tag': 'relation'}).count()"
   ]
  },
  {
   "cell_type": "code",
   "execution_count": 6,
   "metadata": {},
   "outputs": [
    {
     "data": {
      "text/plain": [
       "885"
      ]
     },
     "execution_count": 6,
     "metadata": {},
     "output_type": "execute_result"
    }
   ],
   "source": [
    "# number of distinct users\n",
    "len(osm_data.find().distinct('created.user'))"
   ]
  },
  {
   "cell_type": "code",
   "execution_count": 7,
   "metadata": {},
   "outputs": [
    {
     "name": "stdout",
     "output_type": "stream",
     "text": [
      "[{'_id': 'Special', 'count': 27},\n",
      " {'_id': 'Academic', 'count': 19},\n",
      " {'_id': 'Public', 'count': 16},\n",
      " {'_id': 'Private', 'count': 14},\n",
      " {'_id': 'School', 'count': 11},\n",
      " {'_id': 'Charter', 'count': 3},\n",
      " {'_id': 'Special-Law', 'count': 3},\n",
      " {'_id': 'Approved Special Education', 'count': 2},\n",
      " {'_id': 'County', 'count': 2},\n",
      " {'_id': 'Special-Institutional', 'count': 2},\n",
      " {'_id': 'Special-Medical', 'count': 2},\n",
      " {'_id': 'Collaborative Program', 'count': 1},\n",
      " {'_id': 'private', 'count': 1},\n",
      " {'_id': 'video', 'count': 1}]\n"
     ]
    }
   ],
   "source": [
    "# top 20 most popular types of nodes \n",
    "pipeline = [{'$match': {'tag': 'node', 'type': {'$exists': True}}}, \n",
    "            {'$group': {'_id': '$type', 'count': {'$sum': 1}}}, \n",
    "            {'$sort': {'count': -1, '_id': 1}}, \n",
    "            {'$limit': 20}]\n",
    "\n",
    "pprint.pprint(list(osm_data.aggregate(pipeline)))"
   ]
  },
  {
   "cell_type": "code",
   "execution_count": 8,
   "metadata": {},
   "outputs": [
    {
     "name": "stdout",
     "output_type": "stream",
     "text": [
      "[{'_id': 'restaurant', 'count': 470},\n",
      " {'_id': 'bench', 'count': 415},\n",
      " {'_id': 'bicycle_parking', 'count': 202},\n",
      " {'_id': 'cafe', 'count': 184},\n",
      " {'_id': 'library', 'count': 140},\n",
      " {'_id': 'fast_food', 'count': 114},\n",
      " {'_id': 'school', 'count': 107},\n",
      " {'_id': 'bicycle_rental', 'count': 97},\n",
      " {'_id': 'place_of_worship', 'count': 92},\n",
      " {'_id': 'fountain', 'count': 63},\n",
      " {'_id': 'post_box', 'count': 62},\n",
      " {'_id': 'waste_basket', 'count': 62},\n",
      " {'_id': 'bank', 'count': 59},\n",
      " {'_id': 'bar', 'count': 51},\n",
      " {'_id': 'pub', 'count': 46},\n",
      " {'_id': 'atm', 'count': 36},\n",
      " {'_id': 'pharmacy', 'count': 35},\n",
      " {'_id': 'parking', 'count': 28},\n",
      " {'_id': 'drinking_water', 'count': 27},\n",
      " {'_id': 'bicycle_repair_station', 'count': 24}]\n"
     ]
    }
   ],
   "source": [
    "# top 20 most popular amenities\n",
    "pipeline = [{'$match': {'tag': 'node', 'amenity': {'$exists': True}}}, \n",
    "            {'$group': {'_id': '$amenity', 'count': {'$sum': 1}}}, \n",
    "            {'$sort': {'count': -1, '_id': 1}}, \n",
    "            {'$limit': 20}]\n",
    "\n",
    "pprint.pprint(list(osm_data.aggregate(pipeline)))"
   ]
  },
  {
   "cell_type": "code",
   "execution_count": 9,
   "metadata": {},
   "outputs": [
    {
     "name": "stdout",
     "output_type": "stream",
     "text": [
      "[{'_id': 'Bank of America', 'count': 6},\n",
      " {'_id': 'Citizens Bank', 'count': 5},\n",
      " {'_id': 'Santander', 'count': 3},\n",
      " {'_id': 'Cambridge Trust Company', 'count': 2},\n",
      " {'_id': 'Citibank', 'count': 2},\n",
      " {'_id': 'Eastern Bank', 'count': 2},\n",
      " {'_id': 'Admirals Bank', 'count': 1},\n",
      " {'_id': 'Cambridge Savings Bank', 'count': 1},\n",
      " {'_id': 'Cambridge Trust', 'count': 1},\n",
      " {'_id': \"Citizen's Bank\", 'count': 1},\n",
      " {'_id': 'MIT Federal Credit Union', 'count': 1},\n",
      " {'_id': \"People's United Bank\", 'count': 1},\n",
      " {'_id': 'TD Bank', 'count': 1}]\n"
     ]
    }
   ],
   "source": [
    "# banks with the most atms\n",
    "pipeline = [{'$match': {'tag': 'node', 'amenity': 'bank', 'atm': 'yes'}}, \n",
    "            {'$group': {'_id': '$name', 'count': {'$sum': 1}}}, \n",
    "            {'$sort': {'count': -1, '_id': 1}}, \n",
    "            {'$limit': 20}]\n",
    "\n",
    "pprint.pprint(list(osm_data.aggregate(pipeline)))"
   ]
  },
  {
   "cell_type": "code",
   "execution_count": 10,
   "metadata": {},
   "outputs": [
    {
     "name": "stdout",
     "output_type": "stream",
     "text": [
      "[{'_id': 'coffee_shop', 'count': 49},\n",
      " {'_id': 'pizza', 'count': 42},\n",
      " {'_id': 'mexican', 'count': 34},\n",
      " {'_id': 'sandwich', 'count': 32},\n",
      " {'_id': 'american', 'count': 29},\n",
      " {'_id': 'italian', 'count': 22},\n",
      " {'_id': 'chinese', 'count': 19},\n",
      " {'_id': 'burger', 'count': 17},\n",
      " {'_id': 'asian', 'count': 15},\n",
      " {'_id': 'donut', 'count': 15},\n",
      " {'_id': 'thai', 'count': 15},\n",
      " {'_id': 'indian', 'count': 14},\n",
      " {'_id': 'ice_cream', 'count': 13},\n",
      " {'_id': 'japanese', 'count': 13},\n",
      " {'_id': 'international', 'count': 6},\n",
      " {'_id': 'regional', 'count': 6},\n",
      " {'_id': 'seafood', 'count': 6},\n",
      " {'_id': 'sushi', 'count': 6},\n",
      " {'_id': 'mediterranean', 'count': 5},\n",
      " {'_id': 'french', 'count': 4}]\n"
     ]
    }
   ],
   "source": [
    "# top 20 most popular cuisines\n",
    "pipeline = [{'$match': {'tag': 'node', 'cuisine': {'$exists': True}}}, \n",
    "            {'$group': {'_id': '$cuisine', 'count': {'$sum': 1}}}, \n",
    "            {'$sort': {'count': -1, '_id': 1}}, \n",
    "            {'$limit': 20}]\n",
    "\n",
    "pprint.pprint(list(osm_data.aggregate(pipeline)))"
   ]
  },
  {
   "cell_type": "code",
   "execution_count": 11,
   "metadata": {},
   "outputs": [
    {
     "name": "stdout",
     "output_type": "stream",
     "text": [
      "[{'_id': 'crschmidt', 'count': 144099},\n",
      " {'_id': 'ryebread', 'count': 34851},\n",
      " {'_id': 'wambag', 'count': 32600},\n",
      " {'_id': 'jremillard-massgis', 'count': 30442},\n",
      " {'_id': 'mapper999', 'count': 12981},\n",
      " {'_id': 'morganwahl', 'count': 12871},\n",
      " {'_id': 'OceanVortex', 'count': 7705},\n",
      " {'_id': 'MassGIS Import', 'count': 4059},\n",
      " {'_id': 'JasonWoof', 'count': 3907},\n",
      " {'_id': 'JessAk71', 'count': 3655},\n",
      " {'_id': 'Utible', 'count': 2857},\n",
      " {'_id': 'Shannon Kelly', 'count': 1935},\n",
      " {'_id': 'Alexey Lukin', 'count': 1893},\n",
      " {'_id': 'Ahlzen', 'count': 1814},\n",
      " {'_id': 'cspanring', 'count': 1796},\n",
      " {'_id': 'fiveisalive', 'count': 1661},\n",
      " {'_id': 'probiscus', 'count': 1414},\n",
      " {'_id': 'phyzome', 'count': 1325},\n",
      " {'_id': 'synack', 'count': 1322},\n",
      " {'_id': 'Extant', 'count': 1164}]\n"
     ]
    }
   ],
   "source": [
    "# top 20 users with the most created elements\n",
    "pipeline = [{'$group': {'_id': '$created.user', 'count': {'$sum': 1}}}, \n",
    "            {'$sort': {'count': -1, '_id': 1}}, \n",
    "            {'$limit': 20}]\n",
    "\n",
    "pprint.pprint(list(osm_data.aggregate(pipeline)))"
   ]
  },
  {
   "cell_type": "code",
   "execution_count": 12,
   "metadata": {},
   "outputs": [
    {
     "name": "stdout",
     "output_type": "stream",
     "text": [
      "[{'_id': 1, 'count': 254448},\n",
      " {'_id': 2, 'count': 54873},\n",
      " {'_id': 3, 'count': 16811},\n",
      " {'_id': 4, 'count': 7128},\n",
      " {'_id': 5, 'count': 3814},\n",
      " {'_id': 6, 'count': 1675},\n",
      " {'_id': 7, 'count': 1107},\n",
      " {'_id': 8, 'count': 571},\n",
      " {'_id': 9, 'count': 423},\n",
      " {'_id': 10, 'count': 258},\n",
      " {'_id': 12, 'count': 182},\n",
      " {'_id': 11, 'count': 171},\n",
      " {'_id': 13, 'count': 147},\n",
      " {'_id': 14, 'count': 142},\n",
      " {'_id': 15, 'count': 102},\n",
      " {'_id': 16, 'count': 48},\n",
      " {'_id': 23, 'count': 46},\n",
      " {'_id': 17, 'count': 38},\n",
      " {'_id': 21, 'count': 37},\n",
      " {'_id': 20, 'count': 35},\n",
      " {'_id': 22, 'count': 30},\n",
      " {'_id': 27, 'count': 30},\n",
      " {'_id': 24, 'count': 25},\n",
      " {'_id': 19, 'count': 23},\n",
      " {'_id': 18, 'count': 22},\n",
      " {'_id': 25, 'count': 18},\n",
      " {'_id': 26, 'count': 17},\n",
      " {'_id': 28, 'count': 15},\n",
      " {'_id': 40, 'count': 9},\n",
      " {'_id': 31, 'count': 8},\n",
      " {'_id': 29, 'count': 7},\n",
      " {'_id': 35, 'count': 7},\n",
      " {'_id': 38, 'count': 7},\n",
      " {'_id': 32, 'count': 6},\n",
      " {'_id': 30, 'count': 5},\n",
      " {'_id': 33, 'count': 5},\n",
      " {'_id': 34, 'count': 4},\n",
      " {'_id': 36, 'count': 4},\n",
      " {'_id': 37, 'count': 4},\n",
      " {'_id': 41, 'count': 3},\n",
      " {'_id': 43, 'count': 3},\n",
      " {'_id': 54, 'count': 3},\n",
      " {'_id': 60, 'count': 3},\n",
      " {'_id': 39, 'count': 2},\n",
      " {'_id': 42, 'count': 2},\n",
      " {'_id': 45, 'count': 2},\n",
      " {'_id': 48, 'count': 2},\n",
      " {'_id': 52, 'count': 2},\n",
      " {'_id': 55, 'count': 2},\n",
      " {'_id': 80, 'count': 2}]\n"
     ]
    },
    {
     "data": {
      "image/png": "[encoded data removed]",
      "text/plain": [
       "<matplotlib.figure.Figure at 0x7efe2c035da0>"
      ]
     },
     "metadata": {},
     "output_type": "display_data"
    }
   ],
   "source": [
    "# histogram of number of edits\n",
    "pipeline = [{'$group': {'_id': '$created.version', 'count': {'$sum': 1}}}, \n",
    "            {'$sort': {'count': -1, '_id': 1}}, \n",
    "            {'$limit': 50}]\n",
    "\n",
    "version_dist = list(osm_data.aggregate(pipeline))\n",
    "hist = [(vd['_id'], vd['count']) for vd in version_dist]\n",
    "\n",
    "pprint.pprint(version_dist)\n",
    "\n",
    "import matplotlib.pyplot as plt\n",
    "%matplotlib inline\n",
    "\n",
    "# take log log plot of histogram, roughly straight line implies power law\n",
    "plt.plot(*zip(*hist), 'o')\n",
    "plt.xscale('log')\n",
    "plt.yscale('log')\n",
    "plt.title('Power Law Distribution Of \\nNumber Of Edits By Count')\n",
    "plt.xlabel('Number of Edits')\n",
    "plt.ylabel('Count');"
   ]
  },
  {
   "cell_type": "code",
   "execution_count": 13,
   "metadata": {},
   "outputs": [
    {
     "name": "stdout",
     "output_type": "stream",
     "text": [
      "[{'_id': ObjectId('59bceb1c9d250b2eb76c0164'),\n",
      "  'created': {'version': 463},\n",
      "  'name': 'United States of America',\n",
      "  'tag': 'relation'}]\n"
     ]
    }
   ],
   "source": [
    "# most edited elements\n",
    "max_version = osm_data.find_one(sort=[('created.version', -1)])['created']['version']\n",
    "\n",
    "pprint.pprint(list(osm_data.find({'created.version': max_version}, ['name', 'tag', 'created.version'])))"
   ]
  },
  {
   "cell_type": "code",
   "execution_count": 101,
   "metadata": {},
   "outputs": [
    {
     "name": "stdout",
     "output_type": "stream",
     "text": [
      "[{'_id': 'created', 'pct': '100%'},\n",
      " {'_id': 'id', 'pct': '100%'},\n",
      " {'_id': 'tag', 'pct': '100%'},\n",
      " {'_id': 'name', 'pct': '98.42%'},\n",
      " {'_id': 'pos', 'pct': '96.84%'},\n",
      " {'_id': 'cuisine', 'pct': '48.42%'},\n",
      " {'_id': 'address', 'pct': '35.26%'},\n",
      " {'_id': 'opening_hours', 'pct': '14.21%'},\n",
      " {'_id': 'website', 'pct': '12.63%'},\n",
      " {'_id': 'phone', 'pct': '10%'},\n",
      " {'_id': 'internet_access', 'pct': '8.947%'},\n",
      " {'_id': 'smoking', 'pct': '5.263%'},\n",
      " {'_id': 'takeaway', 'pct': '5.263%'},\n",
      " {'_id': 'source', 'pct': '4.736%'},\n",
      " {'_id': 'wheelchair', 'pct': '4.736%'},\n",
      " {'_id': 'wifi', 'pct': '4.736%'},\n",
      " {'_id': 'building', 'pct': '3.157%'},\n",
      " {'_id': 'node_refs', 'pct': '3.157%'},\n",
      " {'_id': 'outdoor_seating', 'pct': '2.631%'},\n",
      " {'_id': 'toilets', 'pct': '1.578%'},\n",
      " {'_id': 'wikidata', 'pct': '1.578%'},\n",
      " {'_id': 'designation', 'pct': '1.052%'},\n",
      " {'_id': 'diaper', 'pct': '1.052%'},\n",
      " {'_id': 'drive_through', 'pct': '1.052%'},\n",
      " {'_id': 'email', 'pct': '1.052%'},\n",
      " {'_id': 'operator', 'pct': '1.052%'},\n",
      " {'_id': 'shop', 'pct': '1.052%'},\n",
      " {'_id': 'brand', 'pct': '0.526%'},\n",
      " {'_id': 'coffee', 'pct': '0.526%'},\n",
      " {'_id': 'created_by', 'pct': '0.526%'},\n",
      " {'_id': 'drinking_water', 'pct': '0.526%'},\n",
      " {'_id': 'level', 'pct': '0.526%'},\n",
      " {'_id': 'note', 'pct': '0.526%'},\n",
      " {'_id': 'wikipedia', 'pct': '0.526%'}]\n"
     ]
    }
   ],
   "source": [
    "from bson.code import Code\n",
    "\n",
    "# define javascript map function\n",
    "# basically an unwind on each document's dictionary keys/fields\n",
    "map_function = Code(\"\"\"\n",
    "                    function() {\n",
    "                        for (var tag_name in this) {\n",
    "                            emit(tag_name, 1);\n",
    "                        }\n",
    "                    }\n",
    "                    \"\"\")\n",
    "\n",
    "# define javascript reduce function\n",
    "# count the number of each tag\n",
    "reduce_function = Code(\"\"\"\n",
    "                       function(tag_name, tag_count) {\n",
    "                           return Array.sum(tag_count);\n",
    "                       }\n",
    "                       \"\"\")\n",
    "\n",
    "# perform the map reduce and name the resulting collectoin 'cafe_tags_pct'\n",
    "# use the query argument to filter out all documents that aren't cafes before performing the map reduce\n",
    "osm_data.map_reduce(map_function, \n",
    "                    reduce_function, \n",
    "                    out='cafe_tags_pct',\n",
    "                    query={'amenity': 'cafe'})\n",
    "                          \n",
    "ctp = db.cafe_tags_pct\n",
    "\n",
    "# used for calculating the percentage\n",
    "num_cafes = ctp.find_one({'_id': '_id'})['value']\n",
    "\n",
    "# 1. Take out known common tags ('_id' and 'amenity', by the above map reduce query operation)\n",
    "# 2. Calculate the percentage as the count of tags divided by the total number of cafe documents\n",
    "# 3. Sort by percentage\n",
    "# 4. Format to remove excessive precision and add '%' symbol\n",
    "pipeline = [{'$match': {'_id': {'$nin': ['_id', 'amenity']}}}, \n",
    "            {'$project': {'pct': {'$multiply': [{'$divide': ['$value', num_cafes]}, 100]}}}, \n",
    "            {'$sort': {'pct': -1, '_id': 1}}, \n",
    "            {'$project': {'pct': {'$concat': [{'$substr': ['$pct', 0, 5]}, '%']}}}]\n",
    "\n",
    "pprint.pprint(list(ctp.aggregate(pipeline)))"
   ]
  }
 ],
 "metadata": {
  "kernelspec": {
   "display_name": "Python [default]",
   "language": "python",
   "name": "python3"
  },
  "language_info": {
   "codemirror_mode": {
    "name": "ipython",
    "version": 3
   },
   "file_extension": ".py",
   "mimetype": "text/x-python",
   "name": "python",
   "nbconvert_exporter": "python",
   "pygments_lexer": "ipython3",
   "version": "3.6.1"
  }
 },
 "nbformat": 4,
 "nbformat_minor": 2
}
